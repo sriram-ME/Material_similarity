{
 "cells": [
  {
   "cell_type": "markdown",
   "id": "e2396b8b",
   "metadata": {},
   "source": [
    "### Import dependencies"
   ]
  },
  {
   "cell_type": "code",
   "execution_count": null,
   "id": "a85d2bdb",
   "metadata": {},
   "outputs": [],
   "source": [
    "import pandas as pd\n",
    "import numpy as np\n",
    "from sklearn.metrics.pairwise import cosine_similarity"
   ]
  },
  {
   "cell_type": "markdown",
   "id": "6b2f0998",
   "metadata": {},
   "source": [
    "### Filter csv files"
   ]
  },
  {
   "cell_type": "code",
   "execution_count": null,
   "id": "d3a49093",
   "metadata": {},
   "outputs": [],
   "source": [
    "import os\n",
    "file_list = os.listdir(\"D:\\Sriram\\Others\\ML_study\\Git projects\\Project_3_cosine_similarity\")\n",
    "name_list = []\n",
    "final_files = []\n",
    "\n",
    "for i in range(0,len(file_list)):\n",
    "    if 'csv' in file_list[i]:\n",
    "        name = file_list[i].split('_')[0]\n",
    "        name_list.append(name)\n",
    "        final_files.append(file_list[i])"
   ]
  },
  {
   "cell_type": "markdown",
   "id": "e14d5a5b",
   "metadata": {},
   "source": [
    "### Calculate slope values and store it in a dictionary"
   ]
  },
  {
   "cell_type": "code",
   "execution_count": null,
   "id": "2ff7555a",
   "metadata": {},
   "outputs": [],
   "source": [
    "material_dict = {}\n",
    "for i in range(0,len(final_files)):\n",
    "    if 'csv' in final_files[i]:\n",
    "        raw_df = pd.read_csv(final_files[i])\n",
    "        print(final_files[i])\n",
    "        indx = raw_df['strain'] !=0 \n",
    "        stress = raw_df['stress'][indx]\n",
    "        strain = raw_df['strain'][indx]\n",
    "        slope = stress/strain\n",
    "        material_dict[name_list[i]] = slope"
   ]
  },
  {
   "cell_type": "markdown",
   "id": "4cdaebd2",
   "metadata": {},
   "source": [
    "### Initialize zero array for similarity table"
   ]
  },
  {
   "cell_type": "code",
   "execution_count": null,
   "id": "6a461f8e",
   "metadata": {},
   "outputs": [],
   "source": [
    "similarity_table = np.zeros((len(final_files),len(final_files)))"
   ]
  },
  {
   "cell_type": "markdown",
   "id": "d775777f",
   "metadata": {},
   "source": [
    "### Similarity table"
   ]
  },
  {
   "cell_type": "code",
   "execution_count": null,
   "id": "6e324056",
   "metadata": {},
   "outputs": [],
   "source": [
    "for i in range(0,len(final_files)):\n",
    "    for j in range(0,len(final_files)):\n",
    "        similarity_table[i][j] = cosine_similarity([material_dict[name_list[i]].values],[material_dict[name_list[j]].values])"
   ]
  },
  {
   "cell_type": "markdown",
   "id": "931607c7",
   "metadata": {},
   "source": [
    "### Export Similarity table"
   ]
  },
  {
   "cell_type": "code",
   "execution_count": null,
   "id": "ed0f267c",
   "metadata": {},
   "outputs": [],
   "source": [
    "material_sub = pd.DataFrame(similarity_table,index=name_list,columns=name_list)\n",
    "material_sub.to_csv('material_similarity.csv')"
   ]
  }
 ],
 "metadata": {
  "kernelspec": {
   "display_name": "Python 3",
   "language": "python",
   "name": "python3"
  },
  "language_info": {
   "codemirror_mode": {
    "name": "ipython",
    "version": 3
   },
   "file_extension": ".py",
   "mimetype": "text/x-python",
   "name": "python",
   "nbconvert_exporter": "python",
   "pygments_lexer": "ipython3",
   "version": "3.9.6"
  }
 },
 "nbformat": 4,
 "nbformat_minor": 5
}
